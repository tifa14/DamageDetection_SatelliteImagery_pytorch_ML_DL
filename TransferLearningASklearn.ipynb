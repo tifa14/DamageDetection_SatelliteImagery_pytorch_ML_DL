{
 "cells": [
  {
   "cell_type": "code",
   "execution_count": 4,
   "id": "ed1e9fa1",
   "metadata": {},
   "outputs": [],
   "source": [
    "import torch\n",
    "import torch.nn as nn\n",
    "import torch.optim as optim\n",
    "import numpy as np\n",
    "import torchvision\n",
    "from torchvision import datasets, models, transforms"
   ]
  },
  {
   "cell_type": "code",
   "execution_count": 5,
   "id": "cdf9ed24",
   "metadata": {},
   "outputs": [],
   "source": [
    "tr = transforms.Compose([\n",
    "    transforms.Resize(224),\n",
    "    transforms.CenterCrop(224),\n",
    "    transforms.ToTensor(),\n",
    "    transforms.Normalize([0.485, 0.456, 0.406], \n",
    "                        [0.229, 0.224, 0.225])\n",
    "    ])\n",
    "train_set = datasets.ImageFolder(r'Post-hurricane\\train_another',tr)\n",
    "val_set   = datasets.ImageFolder(r'Post-hurricane\\validation_another',tr)\n",
    "\n",
    "train_loader = torch.utils.data.DataLoader(train_set, batch_size=4,\n",
    "                                       shuffle=True, num_workers=4)\n",
    "val_loader = torch.utils.data.DataLoader(val_set, batch_size=4,  \n",
    "                                       shuffle=True, num_workers=4)\n",
    "classes = train_set.classes\n",
    "device = torch.device(\"cuda:0\" if torch.cuda.is_available() else \"cpu\")"
   ]
  },
  {
   "cell_type": "markdown",
   "id": "a19c971f",
   "metadata": {},
   "source": [
    "Feature Extraction"
   ]
  },
  {
   "cell_type": "code",
   "execution_count": 6,
   "id": "71e5cb55",
   "metadata": {},
   "outputs": [
    {
     "name": "stderr",
     "output_type": "stream",
     "text": [
      "C:\\Users\\Maartin\\anaconda3\\lib\\site-packages\\torchvision\\models\\_utils.py:208: UserWarning: The parameter 'pretrained' is deprecated since 0.13 and may be removed in the future, please use 'weights' instead.\n",
      "  warnings.warn(\n",
      "C:\\Users\\Maartin\\anaconda3\\lib\\site-packages\\torchvision\\models\\_utils.py:223: UserWarning: Arguments other than a weight enum or `None` for 'weights' are deprecated since 0.13 and may be removed in the future. The current behavior is equivalent to passing `weights=ResNet18_Weights.IMAGENET1K_V1`. You can also use `weights=ResNet18_Weights.DEFAULT` to get the most up-to-date weights.\n",
      "  warnings.warn(msg)\n"
     ]
    }
   ],
   "source": [
    "model = models.resnet18(pretrained=True)\n",
    "for param in model.parameters():\n",
    "    param.requires_grad = False"
   ]
  },
  {
   "cell_type": "code",
   "execution_count": 7,
   "id": "df3c4929",
   "metadata": {},
   "outputs": [],
   "source": [
    "num_ftrs = model.fc.in_features\n",
    "model.fc = nn.Linear(num_ftrs, 2)\n",
    "model = model.to(device)\n",
    "criterion = nn.CrossEntropyLoss()\n",
    "optimizer = optim.SGD(model.parameters(), lr=0.001, momentum=0.9)"
   ]
  },
  {
   "cell_type": "code",
   "execution_count": 8,
   "id": "e039395d",
   "metadata": {
    "scrolled": true
   },
   "outputs": [
    {
     "name": "stdout",
     "output_type": "stream",
     "text": [
      "Train Loss: 0.1220, Train Acc: 80.55\n",
      "Train Loss: 0.1196, Train Acc: 82.05\n",
      "Train Loss: 0.1126, Train Acc: 82.78\n",
      "Train Loss: 0.1158, Train Acc: 83.42\n",
      "Train Loss: 0.1143, Train Acc: 82.92\n",
      "Train Loss: 0.1166, Train Acc: 82.84\n",
      "Train Loss: 0.1179, Train Acc: 83.35\n",
      "Train Loss: 0.1213, Train Acc: 81.91\n",
      "Train Loss: 0.1118, Train Acc: 83.14\n",
      "Train Loss: 0.1190, Train Acc: 82.81\n",
      "Train Loss: 0.1144, Train Acc: 83.18\n",
      "Train Loss: 0.1160, Train Acc: 82.75\n",
      "Train Loss: 0.1123, Train Acc: 83.49\n",
      "Train Loss: 0.1130, Train Acc: 83.57\n",
      "Train Loss: 0.1116, Train Acc: 83.40\n",
      "Train Loss: 0.1187, Train Acc: 83.36\n",
      "Train Loss: 0.1167, Train Acc: 83.00\n",
      "Train Loss: 0.1188, Train Acc: 83.69\n",
      "Train Loss: 0.1109, Train Acc: 83.83\n",
      "Train Loss: 0.1155, Train Acc: 83.31\n",
      "Train Loss: 0.1196, Train Acc: 83.08\n",
      "Train Loss: 0.1221, Train Acc: 82.67\n",
      "Train Loss: 0.1096, Train Acc: 83.39\n",
      "Train Loss: 0.1096, Train Acc: 84.07\n",
      "Train Loss: 0.1099, Train Acc: 83.65\n",
      "Finished Training\n"
     ]
    }
   ],
   "source": [
    "for epoch in range(25):\n",
    "    running_loss = 0.0\n",
    "    train_running_correct = 0\n",
    "    for i, data in enumerate(train_loader, 0):\n",
    "        inputs, labels = data\n",
    "        inputs = inputs.to(device)\n",
    "        labels = labels.to(device)\n",
    "        \n",
    "        data, target = data[0].to(device), data[1].to(device)\n",
    "        \n",
    "        optimizer.zero_grad()\n",
    "        \n",
    "        outputs = model(inputs)\n",
    "        loss = criterion(outputs, labels)\n",
    "        loss.backward()\n",
    "        optimizer.step()\n",
    "        \n",
    "        running_loss += loss.item()\n",
    "        \n",
    "        _, preds = torch.max(outputs.data, 1)\n",
    "        train_running_correct += (preds == target).sum().item()\n",
    "    \n",
    "    train_loss = running_loss/len(train_loader.dataset)\n",
    "    train_accuracy = 100. * train_running_correct/len(train_loader.dataset)\n",
    "    print(f'Train Loss: {train_loss:.4f}, Train Acc: {train_accuracy:.2f}')\n",
    "\n",
    "print('Finished Training')"
   ]
  },
  {
   "cell_type": "code",
   "execution_count": 48,
   "id": "e93f53fd",
   "metadata": {},
   "outputs": [
    {
     "name": "stdout",
     "output_type": "stream",
     "text": [
      "Accuracy of damage : 90 %\n",
      "Accuracy of no_damage : 80 %\n"
     ]
    }
   ],
   "source": [
    "class_correct = list(0. for i in range(2))\n",
    "class_total = list(0. for i in range(2))\n",
    "with torch.no_grad():\n",
    "    for i, data in enumerate(val_loader, 0):\n",
    "            inputs, labels = data\n",
    "            inputs = inputs.to(device)\n",
    "            labels = labels.to(device)\n",
    "            outputs = model(inputs)\n",
    "            _, predicted = torch.max(outputs, 1)\n",
    "            c = (predicted == labels).squeeze()\n",
    "            for i in range(4):\n",
    "                label = labels[i]\n",
    "                class_correct[label] += c[i].item()\n",
    "                class_total[label] += 1\n",
    "for i in range(2):\n",
    "    print('Accuracy of %5s : %2d %%' % (\n",
    "        classes[i], 100 * class_correct[i] / class_total[i]))"
   ]
  },
  {
   "cell_type": "markdown",
   "id": "3f77d2c3",
   "metadata": {},
   "source": [
    "# Transfert Learning A"
   ]
  },
  {
   "cell_type": "code",
   "execution_count": 49,
   "id": "63ace212",
   "metadata": {},
   "outputs": [],
   "source": [
    "#dataloader objet PyTorch qui contient les données à partir desquelles les caractéristiques doivent être extraites\n",
    "#model : un objet modèle de réseau de neurones qui sera utilisé pour extraire les caractéristiques.\n",
    "#n_sample : un entier qui spécifie le nombre de données à extraire.\n",
    "\n",
    "#Ensuite, la boucle itère à travers les lots de données du dataloader.\n",
    "#Pour chaque lot, le modèle passe en mode d'évaluation, ce qui signifie qu'il ne tiendra pas compte de la descente de gradient.\n",
    "#Les caractéristiques sont extraites en faisant passer le lot d'entrées à travers le modèle et en détachant les valeurs obtenues.\n",
    "#Les caractéristiques sont converties en numpy array dans features.\n",
    "#Les étiquettes sont stockées labels.\n",
    "\n",
    "def extract_features(dataloader, model, n_sample):\n",
    "    features = []\n",
    "    labels = []\n",
    "    i = 0\n",
    "    for inputs_batch, labels_batch in dataloader:\n",
    "        model.eval()\n",
    "        features_batch = model(inputs_batch).detach().numpy()\n",
    "        features[i * dataloader.batch_size: (i + 1) * dataloader.batch_size] = features_batch\n",
    "        labels[i * dataloader.batch_size: (i + 1) * dataloader.batch_size] = labels_batch\n",
    "        i += 1\n",
    "        if i * dataloader.batch_size >= n_sample:\n",
    "            break\n",
    "    return features, labels"
   ]
  },
  {
   "cell_type": "code",
   "execution_count": 50,
   "id": "0e61f500",
   "metadata": {},
   "outputs": [],
   "source": [
    "model = models.resnet18(pretrained=True)"
   ]
  },
  {
   "cell_type": "code",
   "execution_count": 51,
   "id": "73e62621",
   "metadata": {},
   "outputs": [],
   "source": [
    "train_features, train_labels = extract_features(train_loader, model, 10000)\n",
    "test_features, test_labels = extract_features(val_loader, model, 2000)"
   ]
  },
  {
   "cell_type": "markdown",
   "id": "026ddf30",
   "metadata": {},
   "source": [
    "Random Forest"
   ]
  },
  {
   "cell_type": "code",
   "execution_count": 52,
   "id": "220705a7",
   "metadata": {},
   "outputs": [
    {
     "data": {
      "text/plain": [
       "RandomForestClassifier()"
      ]
     },
     "execution_count": 52,
     "metadata": {},
     "output_type": "execute_result"
    }
   ],
   "source": [
    "from sklearn.ensemble import RandomForestClassifier\n",
    "\n",
    "# Convertir les caractéristiques en numpy array pour les utiliser avec scikit-learn\n",
    "# Entraînez un classificateur Random Forest\n",
    "clf = RandomForestClassifier()\n",
    "clf.fit(train_features, train_labels)"
   ]
  },
  {
   "cell_type": "code",
   "execution_count": 1,
   "id": "575f9978",
   "metadata": {},
   "outputs": [],
   "source": [
    "import wandb\n",
    "wandb.sklearn.plot_feature_importances(model, [‘width’, ‘height, ‘length’])"
   ]
  },
  {
   "cell_type": "code",
   "execution_count": 53,
   "id": "4a7528d8",
   "metadata": {},
   "outputs": [
    {
     "name": "stdout",
     "output_type": "stream",
     "text": [
      "              precision    recall  f1-score   support\n",
      "\n",
      "           0       0.91      0.89      0.90      1000\n",
      "           1       0.90      0.92      0.91      1000\n",
      "\n",
      "    accuracy                           0.90      2000\n",
      "   macro avg       0.90      0.90      0.90      2000\n",
      "weighted avg       0.90      0.90      0.90      2000\n",
      "\n"
     ]
    }
   ],
   "source": [
    "pred = clf.predict(test_features)\n",
    "\n",
    "from sklearn.metrics import classification_report\n",
    "print(classification_report(test_labels, pred))"
   ]
  },
  {
   "cell_type": "code",
   "execution_count": null,
   "id": "f4ec4f5e",
   "metadata": {},
   "outputs": [],
   "source": []
  }
 ],
 "metadata": {
  "kernelspec": {
   "display_name": "Python 3",
   "language": "python",
   "name": "python3"
  },
  "language_info": {
   "codemirror_mode": {
    "name": "ipython",
    "version": 3
   },
   "file_extension": ".py",
   "mimetype": "text/x-python",
   "name": "python",
   "nbconvert_exporter": "python",
   "pygments_lexer": "ipython3",
   "version": "3.8.8"
  }
 },
 "nbformat": 4,
 "nbformat_minor": 5
}
